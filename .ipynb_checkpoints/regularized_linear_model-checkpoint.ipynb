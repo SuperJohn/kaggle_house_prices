{
 "cells": [
  {
   "cell_type": "markdown",
   "metadata": {
    "_cell_guid": "e6335977-1dcb-a5bc-4856-184dd7bce3f9",
    "_uuid": "bb9a7d5e9cf406e904519d76b0bc84f5265ffc21"
   },
   "source": [
    "## Trying out a linear model: \n",
    "\n",
    "Author: Alexandru Papiu ([@apapiu](https://twitter.com/apapiu), [GitHub](https://github.com/apapiu))\n",
    " \n",
    "If you use parts of this notebook in your own scripts, please give some sort of credit (for example link back to this). Thanks!\n",
    "\n",
    "\n",
    "There have been a few [great](https://www.kaggle.com/comartel/house-prices-advanced-regression-techniques/house-price-xgboost-starter/run/348739)  [scripts](https://www.kaggle.com/zoupet/house-prices-advanced-regression-techniques/xgboost-10-kfolds-with-scikit-learn/run/357561) on [xgboost](https://www.kaggle.com/tadepalli/house-prices-advanced-regression-techniques/xgboost-with-n-trees-autostop-0-12638/run/353049) already so I'd figured I'd try something simpler: a regularized linear regression model. Surprisingly it does really well with very little feature engineering. The key point is to to log_transform the numeric variables since most of them are skewed."
   ]
  },
  {
   "cell_type": "code",
   "execution_count": null,
   "metadata": {
    "_cell_guid": "0d706811-b70c-aeab-a78b-3c7abd9978d3",
    "_uuid": "97ea8a847aefa0952782bf15957c3e497f5fcb56",
    "collapsed": true
   },
   "outputs": [],
   "source": [
    "import pandas as pd\n",
    "import numpy as np\n",
    "import seaborn as sns\n",
    "import matplotlib\n",
    "\n",
    "import matplotlib.pyplot as plt\n",
    "from scipy.stats import skew\n",
    "from scipy.stats.stats import pearsonr\n",
    "\n",
    "\n",
    "%config InlineBackend.figure_format = 'retina' #set 'png' here when working on notebook\n",
    "%matplotlib inline"
   ]
  },
  {
   "cell_type": "code",
   "execution_count": null,
   "metadata": {
    "_cell_guid": "603292c1-44b7-d72a-5468-e6782f311603",
    "_uuid": "c70ae37254a217fa7a97fd4a8bf0bb74350016ac",
    "collapsed": true
   },
   "outputs": [],
   "source": [
    "train = pd.read_csv(\"../input/train.csv\")\n",
    "test = pd.read_csv(\"../input/test.csv\")"
   ]
  },
  {
   "cell_type": "code",
   "execution_count": null,
   "metadata": {
    "_cell_guid": "d646bb1b-56c4-9b45-d5d4-27095f61b1c0",
    "_uuid": "f7d67f70943a62f57b0da227b9eb7b8219009086",
    "collapsed": true
   },
   "outputs": [],
   "source": [
    "train.head()"
   ]
  },
  {
   "cell_type": "code",
   "execution_count": null,
   "metadata": {
    "_cell_guid": "cb2d88d7-7f76-4b04-d28b-d2c315ae4346",
    "_uuid": "8699753d85bfc1e325913e04450335eef88af8cc",
    "collapsed": true
   },
   "outputs": [],
   "source": [
    "all_data = pd.concat((train.loc[:,'MSSubClass':'SaleCondition'],\n",
    "                      test.loc[:,'MSSubClass':'SaleCondition']))"
   ]
  },
  {
   "cell_type": "markdown",
   "metadata": {
    "_cell_guid": "29fa13df-61e8-b0c2-b3a7-ea92bffd4396",
    "_uuid": "23de98c519669af369a51ee3d0307246371111a7"
   },
   "source": [
    "###Data preprocessing: \n",
    "We're not going to do anything fancy here: \n",
    " \n",
    "- First I'll transform the skewed numeric features by taking log(feature + 1) - this will make the features more normal    \n",
    "- Create Dummy variables for the categorical features    \n",
    "- Replace the numeric missing values (NaN's) with the mean of their respective columns"
   ]
  },
  {
   "cell_type": "code",
   "execution_count": null,
   "metadata": {
    "_cell_guid": "9b5a3e5b-f683-3fd2-7269-4068975bbe42",
    "_uuid": "3e39f08a334e0e052208ebfd0279a14386d7d8c6",
    "collapsed": true
   },
   "outputs": [],
   "source": [
    "matplotlib.rcParams['figure.figsize'] = (12.0, 6.0)\n",
    "prices = pd.DataFrame({\"price\":train[\"SalePrice\"], \"log(price + 1)\":np.log1p(train[\"SalePrice\"])})\n",
    "prices.hist()"
   ]
  },
  {
   "cell_type": "code",
   "execution_count": null,
   "metadata": {
    "_cell_guid": "4ed54771-95c4-00e7-b2cd-569d17862878",
    "_uuid": "8b05325757422ab280b83e854e3dd64c33860c91",
    "collapsed": true
   },
   "outputs": [],
   "source": [
    "#log transform the target:\n",
    "train[\"SalePrice\"] = np.log1p(train[\"SalePrice\"])\n",
    "\n",
    "#log transform skewed numeric features:\n",
    "numeric_feats = all_data.dtypes[all_data.dtypes != \"object\"].index\n",
    "\n",
    "skewed_feats = train[numeric_feats].apply(lambda x: skew(x.dropna())) #compute skewness\n",
    "skewed_feats = skewed_feats[skewed_feats > 0.75]\n",
    "skewed_feats = skewed_feats.index\n",
    "\n",
    "all_data[skewed_feats] = np.log1p(all_data[skewed_feats])"
   ]
  },
  {
   "cell_type": "code",
   "execution_count": null,
   "metadata": {
    "_cell_guid": "3854ab12-a4f3-4c88-fe6e-1fee08e18af2",
    "_uuid": "df286d3211045c272f0ddffb3929c1ac1f397d03",
    "collapsed": true
   },
   "outputs": [],
   "source": [
    "all_data = pd.get_dummies(all_data)"
   ]
  },
  {
   "cell_type": "code",
   "execution_count": null,
   "metadata": {
    "_cell_guid": "5d417300-0deb-3353-cabf-95f75af62678",
    "_uuid": "2503c96b5704ef37117b790fc61807e7c7a61970",
    "collapsed": true
   },
   "outputs": [],
   "source": [
    "#filling NA's with the mean of the column:\n",
    "all_data = all_data.fillna(all_data.mean())"
   ]
  },
  {
   "cell_type": "code",
   "execution_count": null,
   "metadata": {
    "_cell_guid": "fe687685-cdac-0a89-4d71-af2d11d87a81",
    "_uuid": "2228dde27d881a41cb7b869a1fb81cf425c9ae4f",
    "collapsed": true
   },
   "outputs": [],
   "source": [
    "#creating matrices for sklearn:\n",
    "X_train = all_data[:train.shape[0]]\n",
    "X_test = all_data[train.shape[0]:]\n",
    "y = train.SalePrice"
   ]
  },
  {
   "cell_type": "markdown",
   "metadata": {
    "_cell_guid": "cc4e3014-23b7-2971-ddb0-f67b03f83558",
    "_uuid": "46b596f540a8020717d84ff47e97dc44bab3ecac"
   },
   "source": [
    "###Models\n",
    "\n",
    "Now we are going to use regularized linear regression models from the scikit learn module. I'm going to try both l_1(Lasso) and l_2(Ridge) regularization. I'll also define a function that returns the cross-validation rmse error so we can evaluate our models and pick the best tuning par"
   ]
  },
  {
   "cell_type": "code",
   "execution_count": null,
   "metadata": {
    "_cell_guid": "82886739-eee6-5d7a-4be9-e1fe6ac059f1",
    "_uuid": "c5b0ebe4d6bf5c70964a4305992c78603e31692b",
    "collapsed": true
   },
   "outputs": [],
   "source": [
    "from sklearn.linear_model import Ridge, RidgeCV, ElasticNet, LassoCV, LassoLarsCV\n",
    "from sklearn.model_selection import cross_val_score\n",
    "\n",
    "def rmse_cv(model):\n",
    "    rmse= np.sqrt(-cross_val_score(model, X_train, y, scoring=\"neg_mean_squared_error\", cv = 5))\n",
    "    return(rmse)"
   ]
  },
  {
   "cell_type": "code",
   "execution_count": null,
   "metadata": {
    "_cell_guid": "436ce6e8-917f-8c88-3d7b-245e82a1619f",
    "_uuid": "2adf732619e831445e18f9ed6e9f036fa42a640c",
    "collapsed": true
   },
   "outputs": [],
   "source": [
    "model_ridge = Ridge()"
   ]
  },
  {
   "cell_type": "markdown",
   "metadata": {
    "_cell_guid": "69ff958c-dbbb-4750-3fb0-d0ac17ff6363",
    "_uuid": "97f15c080161b12b6cb20e4908478f3bd2ec2c01"
   },
   "source": [
    "The main tuning parameter for the Ridge model is alpha - a regularization parameter that measures how flexible our model is. The higher the regularization the less prone our model will be to overfit. However it will also lose flexibility and might not capture all of the signal in the data."
   ]
  },
  {
   "cell_type": "code",
   "execution_count": null,
   "metadata": {
    "_cell_guid": "f6b86166-f581-6e05-5274-d3d3516ebaf3",
    "_uuid": "f59ecaeae87a03047e9259dc0f2642d2dc2db3f5",
    "collapsed": true
   },
   "outputs": [],
   "source": [
    "alphas = [0.05, 0.1, 0.3, 1, 3, 5, 10, 15, 30, 50, 75]\n",
    "cv_ridge = [rmse_cv(Ridge(alpha = alpha)).mean() \n",
    "            for alpha in alphas]"
   ]
  },
  {
   "cell_type": "code",
   "execution_count": null,
   "metadata": {
    "_cell_guid": "f8cf53ba-8441-9233-b7f5-a851d270b770",
    "_uuid": "804f391f75478d490aa280d7b7657bd167fd609c",
    "collapsed": true
   },
   "outputs": [],
   "source": [
    "cv_ridge = pd.Series(cv_ridge, index = alphas)\n",
    "cv_ridge.plot(title = \"Validation - Just Do It\")\n",
    "plt.xlabel(\"alpha\")\n",
    "plt.ylabel(\"rmse\")"
   ]
  },
  {
   "cell_type": "markdown",
   "metadata": {
    "_cell_guid": "37486402-4a48-912f-84ee-a3611334b133",
    "_uuid": "4d61d06e24e6daeb40736053aed4b6358436cbd5"
   },
   "source": [
    "Note the U-ish shaped curve above. When alpha is too large the regularization is too strong and the model cannot capture all the complexities in the data. If however we let the model be too flexible (alpha small) the model begins to overfit. A value of alpha = 10 is about right based on the plot above."
   ]
  },
  {
   "cell_type": "code",
   "execution_count": null,
   "metadata": {
    "_cell_guid": "d42c18c9-ee70-929f-ce63-aac7f77796cc",
    "_uuid": "511ef581e3c6d367a31e18183e6c6391b78f5a8b",
    "collapsed": true
   },
   "outputs": [],
   "source": [
    "cv_ridge.min()"
   ]
  },
  {
   "cell_type": "markdown",
   "metadata": {
    "_cell_guid": "863fb699-7bcd-3748-3dbb-1c9b18afee9b",
    "_uuid": "42b682a26dcb3d6beeaf9c0cc952e3c526c60e1b"
   },
   "source": [
    "So for the Ridge regression we get a rmsle of about 0.127\n",
    "\n",
    "Let' try out the Lasso model. We will do a slightly different approach here and use the built in Lasso CV to figure out the best alpha for us. For some reason the alphas in Lasso CV are really the inverse or the alphas in Ridge."
   ]
  },
  {
   "cell_type": "code",
   "execution_count": null,
   "metadata": {
    "_cell_guid": "8204520c-a595-2ad2-4685-0b84cc662b84",
    "_uuid": "b540fadaf9576ea3ed8e6edaf06cc31f82eb75a3",
    "collapsed": true
   },
   "outputs": [],
   "source": [
    "model_lasso = LassoCV(alphas = [1, 0.1, 0.001, 0.0005]).fit(X_train, y)"
   ]
  },
  {
   "cell_type": "code",
   "execution_count": null,
   "metadata": {
    "_cell_guid": "e78e6126-4de0-08ad-250b-46a3f0f48de0",
    "_uuid": "ed524e9a2d1ca7310ead830a1eb25e40a877c9fe",
    "collapsed": true
   },
   "outputs": [],
   "source": [
    "rmse_cv(model_lasso).mean()"
   ]
  },
  {
   "cell_type": "markdown",
   "metadata": {
    "_cell_guid": "abc5f43e-1c38-4c1e-cb70-a95c8d9be8de",
    "_uuid": "1c66de1da35424a678864fbfc91f54f3fca99490"
   },
   "source": [
    "Nice! The lasso performs even better so we'll just use this one to predict on the test set. Another neat thing about the Lasso is that it does feature selection for you - setting coefficients of features it deems unimportant to zero. Let's take a look at the coefficients:"
   ]
  },
  {
   "cell_type": "code",
   "execution_count": null,
   "metadata": {
    "_cell_guid": "c7be87ca-412a-cb19-1524-cd94cf698d44",
    "_uuid": "73348c093842ab7adbb0d5e6c78f655a057e6107",
    "collapsed": true
   },
   "outputs": [],
   "source": [
    "coef = pd.Series(model_lasso.coef_, index = X_train.columns)"
   ]
  },
  {
   "cell_type": "code",
   "execution_count": null,
   "metadata": {
    "_cell_guid": "14be641e-bbe0-824d-d90f-f47698c8b5c5",
    "_uuid": "37f811cadc0a2761f87c4290af5828bab720fbdd",
    "collapsed": true
   },
   "outputs": [],
   "source": [
    "print(\"Lasso picked \" + str(sum(coef != 0)) + \" variables and eliminated the other \" +  str(sum(coef == 0)) + \" variables\")"
   ]
  },
  {
   "cell_type": "markdown",
   "metadata": {
    "_cell_guid": "ca153134-b109-1afc-e066-44273f65d44c",
    "_uuid": "49440f2c347780e123a2b0d90c8e09ce24557fad"
   },
   "source": [
    "Good job Lasso.  One thing to note here however is that the features selected are not necessarily the \"correct\" ones - especially since there are a lot of collinear features in this dataset. One idea to try here is run Lasso a few times on boostrapped samples and see how stable the feature selection is."
   ]
  },
  {
   "cell_type": "markdown",
   "metadata": {
    "_cell_guid": "632e23a8-948f-c692-f5e9-1aa8a75f21d5",
    "_uuid": "4896304a4736333deb25ab29557b02557cfc11c0"
   },
   "source": [
    "We can also take a look directly at what the most important coefficients are:"
   ]
  },
  {
   "cell_type": "code",
   "execution_count": null,
   "metadata": {
    "_cell_guid": "3efc02df-c877-b1fe-1807-5dd93c896c63",
    "_uuid": "50709e2b4540e6125c32ca105f62a9265da76c3c",
    "collapsed": true
   },
   "outputs": [],
   "source": [
    "imp_coef = pd.concat([coef.sort_values().head(10),\n",
    "                     coef.sort_values().tail(10)])"
   ]
  },
  {
   "cell_type": "code",
   "execution_count": null,
   "metadata": {
    "_cell_guid": "87317789-6e7e-d57f-0b54-d8ba0ee26abf",
    "_uuid": "d8fde99fff8e44e8d9f636021af76a1d01c66df2",
    "collapsed": true
   },
   "outputs": [],
   "source": [
    "matplotlib.rcParams['figure.figsize'] = (8.0, 10.0)\n",
    "imp_coef.plot(kind = \"barh\")\n",
    "plt.title(\"Coefficients in the Lasso Model\")"
   ]
  },
  {
   "cell_type": "markdown",
   "metadata": {
    "_cell_guid": "f6e6f820-1ec6-4a69-c309-9992b80652da",
    "_uuid": "270133e2ec66b0c051d9120bc31ab153c6b2b27f"
   },
   "source": [
    "The most important positive feature is `GrLivArea` -  the above ground area by area square feet. This definitely sense. Then a few other  location and quality features contributed positively. Some of the negative features make less sense and would be worth looking into more - it seems like they might come from unbalanced categorical variables.\n",
    "\n",
    " Also note that unlike the feature importance you'd get from a random forest these are _actual_ coefficients in your model - so you can say precisely why the predicted price is what it is. The only issue here is that we log_transformed both the target and the numeric features so the actual magnitudes are a bit hard to interpret. "
   ]
  },
  {
   "cell_type": "code",
   "execution_count": null,
   "metadata": {
    "_cell_guid": "cdeaa3d3-f9ad-2e06-1339-61b4425a43f8",
    "_uuid": "ad8ecb2d4427f6c9ec7175c6fb49cc5b2a636fed",
    "collapsed": true
   },
   "outputs": [],
   "source": [
    "#let's look at the residuals as well:\n",
    "matplotlib.rcParams['figure.figsize'] = (6.0, 6.0)\n",
    "\n",
    "preds = pd.DataFrame({\"preds\":model_lasso.predict(X_train), \"true\":y})\n",
    "preds[\"residuals\"] = preds[\"true\"] - preds[\"preds\"]\n",
    "preds.plot(x = \"preds\", y = \"residuals\",kind = \"scatter\")"
   ]
  },
  {
   "cell_type": "markdown",
   "metadata": {
    "_cell_guid": "4780532e-2815-e355-9a96-fb1c598f6984",
    "_uuid": "469dceb89d30d98406a025a97bd2b2813093bef8"
   },
   "source": [
    "The residual plot looks pretty good.To wrap it up let's predict on the test set and submit on the leaderboard:"
   ]
  },
  {
   "cell_type": "markdown",
   "metadata": {
    "_cell_guid": "f8da43e0-fd51-a4c9-d9b2-364d9911699a",
    "_uuid": "85921a505011f5ff8d91cd535d3f39e0b0b14ea3"
   },
   "source": [
    "### Adding an xgboost model:"
   ]
  },
  {
   "cell_type": "markdown",
   "metadata": {
    "_cell_guid": "ae9bcc1a-5106-0909-ecf7-0abc2d2ca386",
    "_uuid": "e5436c4a70177360b54f95763008eb8aabb2c17d"
   },
   "source": [
    "Let's add an xgboost model to our linear model to see if we can improve our score:"
   ]
  },
  {
   "cell_type": "code",
   "execution_count": null,
   "metadata": {
    "_cell_guid": "654e4fcf-a049-921a-4783-3c6d6dcca673",
    "_uuid": "ce1fd9f4a3c933c85f82ee07908693c15f7b40de",
    "collapsed": true
   },
   "outputs": [],
   "source": [
    "import xgboost as xgb"
   ]
  },
  {
   "cell_type": "code",
   "execution_count": null,
   "metadata": {
    "_cell_guid": "be53a9f8-d88b-05fb-734d-3a1388d39864",
    "_uuid": "5ae4564cb19d7d371313d14983a047cbc242112c",
    "collapsed": true
   },
   "outputs": [],
   "source": [
    "\n",
    "dtrain = xgb.DMatrix(X_train, label = y)\n",
    "dtest = xgb.DMatrix(X_test)\n",
    "\n",
    "params = {\"max_depth\":2, \"eta\":0.1}\n",
    "model = xgb.cv(params, dtrain,  num_boost_round=500, early_stopping_rounds=100)"
   ]
  },
  {
   "cell_type": "code",
   "execution_count": null,
   "metadata": {
    "_cell_guid": "c9d5bfe5-a0a8-0b10-d54a-1dfbb6123bd0",
    "_uuid": "a360aff97558414b7c1703e67b5f20511a1cc128",
    "collapsed": true
   },
   "outputs": [],
   "source": [
    "model.loc[30:,[\"test-rmse-mean\", \"train-rmse-mean\"]].plot()"
   ]
  },
  {
   "cell_type": "code",
   "execution_count": null,
   "metadata": {
    "_cell_guid": "00b8a271-0f93-c757-7e33-516c3a297628",
    "_uuid": "0786a7fc25af7eb18c2ee8fc9b3c9f6b317ef6a3",
    "collapsed": true
   },
   "outputs": [],
   "source": [
    "model_xgb = xgb.XGBRegressor(n_estimators=360, max_depth=2, learning_rate=0.1) #the params were tuned using xgb.cv\n",
    "model_xgb.fit(X_train, y)"
   ]
  },
  {
   "cell_type": "code",
   "execution_count": null,
   "metadata": {
    "_cell_guid": "2b87a004-3a9a-77cc-4b5b-6540f870c028",
    "_uuid": "3c7fdc69605229d0007f913849048709b0b0cc36",
    "collapsed": true
   },
   "outputs": [],
   "source": [
    "xgb_preds = np.expm1(model_xgb.predict(X_test))\n",
    "lasso_preds = np.expm1(model_lasso.predict(X_test))"
   ]
  },
  {
   "cell_type": "code",
   "execution_count": null,
   "metadata": {
    "_cell_guid": "1c9c640b-9e6c-a350-0691-7f6a7dc19c41",
    "_uuid": "a8f467f42c62aa3f43adad65f8e04bca293e3af2",
    "collapsed": true
   },
   "outputs": [],
   "source": [
    "predictions = pd.DataFrame({\"xgb\":xgb_preds, \"lasso\":lasso_preds})\n",
    "predictions.plot(x = \"xgb\", y = \"lasso\", kind = \"scatter\")"
   ]
  },
  {
   "cell_type": "markdown",
   "metadata": {
    "_cell_guid": "74c9bdd2-afbb-5fdf-a776-a8eebfa30d12",
    "_uuid": "9e10805fed8c86477b62467961f383e6b75f4ac3"
   },
   "source": [
    "Many times it makes sense to take a weighted average of uncorrelated results - this usually imporoves the score although in this case it doesn't help that much."
   ]
  },
  {
   "cell_type": "code",
   "execution_count": null,
   "metadata": {
    "_cell_guid": "623ed0fe-0150-5226-db27-90a321061d52",
    "_uuid": "8bc76b68b5a0eaf06b3b6667ad300509c94281e4",
    "collapsed": true
   },
   "outputs": [],
   "source": [
    "preds = 0.7*lasso_preds + 0.3*xgb_preds"
   ]
  },
  {
   "cell_type": "code",
   "execution_count": null,
   "metadata": {
    "_cell_guid": "569d7154-e3b5-84ab-1d28-57bdc02955d9",
    "_uuid": "0e4b9a52e556b807903f22759e148574db80f646",
    "collapsed": true
   },
   "outputs": [],
   "source": [
    "solution = pd.DataFrame({\"id\":test.Id, \"SalePrice\":preds})\n",
    "solution.to_csv(\"ridge_sol.csv\", index = False)"
   ]
  },
  {
   "cell_type": "markdown",
   "metadata": {
    "_cell_guid": "fe4ec3c9-ae45-e01e-d881-32da250d44ba",
    "_uuid": "341d7603eae193bf60b810df7abdd74365b147fe"
   },
   "source": [
    "### Trying out keras?\n",
    "\n",
    "Feedforward Neural Nets doesn't seem to work well at all...I wonder why."
   ]
  },
  {
   "cell_type": "code",
   "execution_count": null,
   "metadata": {
    "_cell_guid": "12121592-5b16-5957-6c54-3fe84bc6708a",
    "_uuid": "8d874642c4f410353f4719859534bd880b6f4566",
    "collapsed": true
   },
   "outputs": [],
   "source": [
    "from keras.layers import Dense\n",
    "from keras.models import Sequential\n",
    "from keras.regularizers import l1\n",
    "from sklearn.preprocessing import StandardScaler\n",
    "from sklearn.model_selection import train_test_split"
   ]
  },
  {
   "cell_type": "code",
   "execution_count": null,
   "metadata": {
    "_cell_guid": "246a88ac-3963-a603-cf33-eb2976737c98",
    "_uuid": "1c0a68fe309f5bc8811e2b00a361b15a84882c52",
    "collapsed": true
   },
   "outputs": [],
   "source": [
    "X_train = StandardScaler().fit_transform(X_train)"
   ]
  },
  {
   "cell_type": "code",
   "execution_count": null,
   "metadata": {
    "_cell_guid": "04936965-5441-3989-1f07-97138b331dbc",
    "_uuid": "48badb89274863d79b8530d94774360c105d3bc7",
    "collapsed": true
   },
   "outputs": [],
   "source": [
    "X_tr, X_val, y_tr, y_val = train_test_split(X_train, y, random_state = 3)"
   ]
  },
  {
   "cell_type": "code",
   "execution_count": null,
   "metadata": {
    "_cell_guid": "5223b976-c02e-062e-5c73-60516bf70fa5",
    "_uuid": "9d5a500ba1134b88383c908ae42ac6b6dc291974",
    "collapsed": true
   },
   "outputs": [],
   "source": [
    "X_tr.shape"
   ]
  },
  {
   "cell_type": "code",
   "execution_count": null,
   "metadata": {
    "_cell_guid": "7b7e0df1-ea9c-5dcb-41cd-f79509218a20",
    "_uuid": "02b771897dc42714532d76dcc8e9584bcbf2ff91",
    "collapsed": true
   },
   "outputs": [],
   "source": [
    "X_tr"
   ]
  },
  {
   "cell_type": "code",
   "execution_count": null,
   "metadata": {
    "_cell_guid": "14ef62de-56e3-03cc-00c6-a5e2307d1b6a",
    "_uuid": "2de28d55cea853487caf0d86c85a88e18993245a",
    "collapsed": true
   },
   "outputs": [],
   "source": [
    "model = Sequential()\n",
    "#model.add(Dense(256, activation=\"relu\", input_dim = X_train.shape[1]))\n",
    "model.add(Dense(1, input_dim = X_train.shape[1], W_regularizer=l1(0.001)))\n",
    "\n",
    "model.compile(loss = \"mse\", optimizer = \"adam\")"
   ]
  },
  {
   "cell_type": "code",
   "execution_count": null,
   "metadata": {
    "_cell_guid": "082332bc-b36b-30db-1e0e-c212fba98b58",
    "_uuid": "4cd72292e18179d2784ffb007b8688865a6a93a7",
    "collapsed": true
   },
   "outputs": [],
   "source": [
    "model.summary()"
   ]
  },
  {
   "cell_type": "code",
   "execution_count": null,
   "metadata": {
    "_cell_guid": "ad155a35-1d0b-c42f-9bdf-77ff389ddfd4",
    "_uuid": "998721cd4adc79c95e97e2d37be16b0ab40c6670",
    "collapsed": true
   },
   "outputs": [],
   "source": [
    "hist = model.fit(X_tr, y_tr, validation_data = (X_val, y_val))"
   ]
  },
  {
   "cell_type": "code",
   "execution_count": null,
   "metadata": {
    "_cell_guid": "d6c6354f-047b-1d8e-c024-15bb5d570f15",
    "_uuid": "3b2a39dd0672db0fc5a5dab07b00f3b28d7cc321",
    "collapsed": true
   },
   "outputs": [],
   "source": [
    "pd.Series(model.predict(X_val)[:,0]).hist()"
   ]
  }
 ],
 "metadata": {
  "_change_revision": 0,
  "_is_fork": false,
  "kernelspec": {
   "display_name": "Python 3",
   "language": "python",
   "name": "python3"
  },
  "language_info": {
   "codemirror_mode": {
    "name": "ipython",
    "version": 3
   },
   "file_extension": ".py",
   "mimetype": "text/x-python",
   "name": "python",
   "nbconvert_exporter": "python",
   "pygments_lexer": "ipython3",
   "version": "3.6.2"
  }
 },
 "nbformat": 4,
 "nbformat_minor": 1
}
